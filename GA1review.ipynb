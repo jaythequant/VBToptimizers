{
 "cells": [
  {
   "cell_type": "code",
   "execution_count": 209,
   "metadata": {},
   "outputs": [],
   "source": [
    "import pandas as pd\n",
    "import os\n",
    "from scipy.stats import skew, kurtosis\n",
    "import numpy as np\n",
    "import matplotlib.pyplot as plt\n",
    "from dotenv import load_dotenv\n",
    "from sklearn.model_selection import train_test_split\n",
    "from optimizers.simulations.order import simulate_from_order_func\n",
    "from optimizers.utils._utils import get_csv_data\n",
    "from optimizers.cross_validators import vbt_cv_sliding_constructor\n",
    "from optimizers.pipes.pipe import SQLPipe\n",
    "\n",
    "load_dotenv()\n",
    "\n",
    "USER = os.getenv('psql_username')\n",
    "PASS = os.getenv('psql_password')\n",
    "DATABASE = 'crypto'\n",
    "SCHEMA = 'kucoin'\n",
    "\n",
    "pipe = SQLPipe(SCHEMA, DATABASE, USER, PASS)"
   ]
  },
  {
   "cell_type": "code",
   "execution_count": 226,
   "metadata": {},
   "outputs": [
    {
     "name": "stdout",
     "output_type": "stream",
     "text": [
      "Full data length: 13766\n",
      "Test data length: 4130\n",
      "Train fold length 3212\n"
     ]
    }
   ],
   "source": [
    "assets = ['CAKE-USDT', 'AAVE-USDT']\n",
    "slicer = 0 # Slice off first few months of trading to reduce early volatility\n",
    "\n",
    "df = pipe.query_pairs_trading_backtest(assets)\n",
    "closes = df.xs('close', level=1, axis=1)[slicer:]\n",
    "opens = df.xs('open', level=1, axis=1)[slicer:]\n",
    "assert closes.shape[0] > 8640, 'Less than 1 year of backtesting data present'\n",
    "assert closes.shape == opens.shape, 'Open and close shape does not match'\n",
    "\n",
    "print(f\"Full data length: {closes.shape[0]}\")\n",
    "\n",
    "train_opens, opens = train_test_split(opens, test_size=0.30, train_size=0.70, shuffle=False)\n",
    "train_closes, closes = train_test_split(closes, test_size=0.30, train_size=0.70, shuffle=False)\n",
    "close_folds = vbt_cv_sliding_constructor(train_closes, n_splits=3)\n",
    "open_folds = vbt_cv_sliding_constructor(train_opens, n_splits=3)\n",
    "\n",
    "print(f\"Test data length: {opens.shape[0]}\")\n",
    "print(f\"Train fold length {close_folds[0].shape[0]}\")"
   ]
  },
  {
   "cell_type": "code",
   "execution_count": 227,
   "metadata": {},
   "outputs": [],
   "source": [
    "# EOS FIL works on a CUMMLOG model but has volatility in per trade returns\n",
    "# FIL THETA & LINK CHZ, BTC ZEC. BTCZEC might work, but had generalization issues\n",
    "# ADA ZEC is untestable due to massive regime shift mid test set for LOG model\n",
    "# Something is bizarre and wrong with the ADA ZEC data; needs review?\n",
    "# BSV 1INCH 70 2.1 -2.4 1.3 5.000000e-07 0.00030 CUMMLOG <- does not work past 10bps slippage\n",
    "# XLM1INCH, LTCCHZ, DGBCAKE, NEODGB, DGBDASH, GRT1INCH failed backtesting\n",
    "# THETA FIL 100 1.2 -1.2 0.3 9.e-8 4.e-5 LOG seems to work\n",
    "# BATANKR 303 0.7 -2.7 0.4 3.e-9 1.7e-5 LOG\n",
    "# LTCCHZ works, but apparently failed to hedge (same issue as with CHZWIN) <- this might be fixed now\n",
    "# BNBTRX (LOG) failed\n",
    "# BNBTRX CUMMLOG 615 1.9 -2.2 1.4 8e-6 0.3 <- low sharpe, but high WR. High duration. Deploy with minor alloc?\n",
    "# XLM SUN / SUN XLM  does not generalize well. Low trade count, high duration\n",
    "# XMR ETH failed across all models. Still need to test ETH XMR\n",
    "# ASX VRA DEFAULT 20 2.0 -1.8 0.6 8e-8 1.2 <- extremely successful\n",
    "# DOGE SUN / SUN DOGEfailed on all models\n",
    "# FIL CAKE DEFAULT 510 1.6 -1.4 0.1 6e-6 7e-1 returned low trade count, high duration, but ~2 sharpe, high wr, high pr. Bears live testing\n",
    "# THETA FIL LOG 355 1.5 -1.5 1.2 1E-9 0.15 works quite well at 20bps slippage. Fat tail risk in trades leads to low sharpe\n",
    "# EOS CAKE does not work on any metric\n",
    "\n",
    "PERIOD = 570\n",
    "UPPER = 4.6\n",
    "LOWER = -0.6\n",
    "EXIT = 0.5\n",
    "DELTA = 2e-9\n",
    "VT = 9e-4\n",
    "BURNIN = 800\n",
    "MODEL = 'default'\n",
    "HEDGE = 'beta'\n",
    "SLIPPAGE = 0.0020\n",
    "FREQ = \"h\""
   ]
  },
  {
   "cell_type": "code",
   "execution_count": 228,
   "metadata": {},
   "outputs": [],
   "source": [
    "pf = simulate_from_order_func(\n",
    "    closes, opens,\n",
    "    period=PERIOD,\n",
    "    upper=UPPER,\n",
    "    lower=LOWER,\n",
    "    exit=EXIT,\n",
    "    delta=DELTA,\n",
    "    vt=VT,\n",
    "    burnin=BURNIN,\n",
    "    freq=FREQ,\n",
    "    hedge=HEDGE,\n",
    "    mode=MODEL,\n",
    "    slippage=SLIPPAGE,\n",
    "    order_size=0.10,\n",
    ")"
   ]
  },
  {
   "cell_type": "code",
   "execution_count": 229,
   "metadata": {},
   "outputs": [
    {
     "name": "stdout",
     "output_type": "stream",
     "text": [
      "0.0006559869909779604\n"
     ]
    },
    {
     "data": {
      "text/plain": [
       "<AxesSubplot:xlabel='time'>"
      ]
     },
     "execution_count": 229,
     "metadata": {},
     "output_type": "execute_result"
    },
    {
     "data": {
      "image/png": "[encoded data removed]",
      "text/plain": [
       "<Figure size 1368x288 with 1 Axes>"
      ]
     },
     "metadata": {
      "needs_background": "light"
     },
     "output_type": "display_data"
    }
   ],
   "source": [
    "print(pf.total_return())\n",
    "pf.value().plot(figsize=(19,4))"
   ]
  },
  {
   "cell_type": "code",
   "execution_count": 230,
   "metadata": {},
   "outputs": [],
   "source": [
    "pnl = (pf.trades.records_readable.groupby('Entry Timestamp').sum().PnL.resample('D').sum())\n",
    "val = pf.value().resample('D').asfreq().fillna(pf.value())\n",
    "res = pd.concat([pnl, val], axis=1, keys=['pnl', 'val'])\n",
    "res = res.fillna(0)\n",
    "res['ret'] = res.pnl / res.val\n",
    "Rf = (1 + 0) ** (1/365) - 1 # Daily risk free rate\n",
    "Rp = res.ret.mean() # Daily portfolio return\n",
    "STDp = res.ret.std() # Daily standard deviation of return\n",
    "sharpe = ((Rp - 0) / STDp) * np.sqrt(365) # Annualized sharpe"
   ]
  },
  {
   "cell_type": "code",
   "execution_count": 231,
   "metadata": {},
   "outputs": [
    {
     "name": "stdout",
     "output_type": "stream",
     "text": [
      "Total trades: 19\n",
      "Executed trades: 38\n",
      "Profit Ratio: 2.200\n",
      "Net long-short win rate: 31.58%\n",
      "Median trade profit: -122.73\n",
      "Mean trade profit: 3.45\n",
      "STD of trade profit: 924.05\n",
      "Sharpe ratio: 0.0528\n"
     ]
    }
   ],
   "source": [
    "res = pf.trades.records_readable.groupby(\"Entry Timestamp\").sum()\n",
    "\n",
    "print(f\"Total trades: {res.shape[0]}\")\n",
    "print(f\"Executed trades: {pf.trades.records_readable.shape[0]}\")\n",
    "print(f\"Profit Ratio: {res.PnL[res.PnL > 0].mean() / np.abs(res.PnL[res.PnL < 0].mean()):.3f}\")\n",
    "print(f\"Net long-short win rate: {res.PnL[res.PnL > 0].shape[0] / res.shape[0] * 100:.2f}%\")\n",
    "print(f\"Median trade profit: {res.PnL.median():.2f}\")\n",
    "print(f\"Mean trade profit: {res.PnL.mean():.2f}\")\n",
    "print(f\"STD of trade profit: {res.PnL.std():.2f}\")\n",
    "print(f\"Sharpe ratio: {sharpe:.4f}\")"
   ]
  },
  {
   "cell_type": "code",
   "execution_count": 232,
   "metadata": {},
   "outputs": [
    {
     "data": {
      "text/plain": [
       "<AxesSubplot:xlabel='Entry Timestamp'>"
      ]
     },
     "execution_count": 232,
     "metadata": {},
     "output_type": "execute_result"
    },
    {
     "data": {
      "image/png": "[encoded data removed]",
      "text/plain": [
       "<Figure size 1152x432 with 1 Axes>"
      ]
     },
     "metadata": {
      "needs_background": "light"
     },
     "output_type": "display_data"
    }
   ],
   "source": [
    "res.PnL.plot(kind=\"bar\", figsize=(16,6))"
   ]
  },
  {
   "cell_type": "code",
   "execution_count": 224,
   "metadata": {},
   "outputs": [
    {
     "name": "stdout",
     "output_type": "stream",
     "text": [
      "Kurtosis: 6.190353933524482\n",
      "Skew: 0.5200742475231072\n"
     ]
    },
    {
     "data": {
      "text/plain": [
       "<AxesSubplot:ylabel='Frequency'>"
      ]
     },
     "execution_count": 224,
     "metadata": {},
     "output_type": "execute_result"
    },
    {
     "data": {
      "image/png": "[encoded data removed]",
      "text/plain": [
       "<Figure size 1152x432 with 1 Axes>"
      ]
     },
     "metadata": {
      "needs_background": "light"
     },
     "output_type": "display_data"
    }
   ],
   "source": [
    "print(f'Kurtosis: {kurtosis(res.PnL, fisher=False)}')\n",
    "print(f'Skew: {skew(res.PnL)}')\n",
    "\n",
    "bins = np.arange(res.PnL.min(), res.PnL.max(), 25)\n",
    "res.PnL.plot(kind=\"hist\", figsize=(16,6), bins=bins)\n"
   ]
  },
  {
   "cell_type": "code",
   "execution_count": 225,
   "metadata": {},
   "outputs": [
    {
     "data": {
      "text/html": [
       "<div>\n",
       "<style scoped>\n",
       "    .dataframe tbody tr th:only-of-type {\n",
       "        vertical-align: middle;\n",
       "    }\n",
       "\n",
       "    .dataframe tbody tr th {\n",
       "        vertical-align: top;\n",
       "    }\n",
       "\n",
       "    .dataframe thead th {\n",
       "        text-align: right;\n",
       "    }\n",
       "</style>\n",
       "<table border=\"1\" class=\"dataframe\">\n",
       "  <thead>\n",
       "    <tr style=\"text-align: right;\">\n",
       "      <th></th>\n",
       "      <th>Exit Trade Id</th>\n",
       "      <th>Column</th>\n",
       "      <th>Size</th>\n",
       "      <th>Entry Timestamp</th>\n",
       "      <th>Avg Entry Price</th>\n",
       "      <th>Entry Fees</th>\n",
       "      <th>Exit Timestamp</th>\n",
       "      <th>Avg Exit Price</th>\n",
       "      <th>Exit Fees</th>\n",
       "      <th>PnL</th>\n",
       "      <th>Return</th>\n",
       "      <th>Direction</th>\n",
       "      <th>Status</th>\n",
       "      <th>Position Id</th>\n",
       "    </tr>\n",
       "  </thead>\n",
       "  <tbody>\n",
       "    <tr>\n",
       "      <th>56</th>\n",
       "      <td>56</td>\n",
       "      <td>AAVE-USDT</td>\n",
       "      <td>2.605176</td>\n",
       "      <td>2021-07-03 08:00:00</td>\n",
       "      <td>246.853304</td>\n",
       "      <td>0.514477</td>\n",
       "      <td>2021-07-04 05:00:00</td>\n",
       "      <td>263.566000</td>\n",
       "      <td>0.000000</td>\n",
       "      <td>-44.053987</td>\n",
       "      <td>-0.068503</td>\n",
       "      <td>Short</td>\n",
       "      <td>Open</td>\n",
       "      <td>56</td>\n",
       "    </tr>\n",
       "    <tr>\n",
       "      <th>113</th>\n",
       "      <td>113</td>\n",
       "      <td>CAKE-USDT</td>\n",
       "      <td>872.468676</td>\n",
       "      <td>2021-07-03 08:00:00</td>\n",
       "      <td>13.197342</td>\n",
       "      <td>9.211414</td>\n",
       "      <td>2021-07-04 05:00:00</td>\n",
       "      <td>13.839000</td>\n",
       "      <td>0.000000</td>\n",
       "      <td>550.615092</td>\n",
       "      <td>0.047820</td>\n",
       "      <td>Long</td>\n",
       "      <td>Open</td>\n",
       "      <td>113</td>\n",
       "    </tr>\n",
       "    <tr>\n",
       "      <th>23</th>\n",
       "      <td>23</td>\n",
       "      <td>AAVE-USDT</td>\n",
       "      <td>0.805124</td>\n",
       "      <td>2021-05-19 17:00:00</td>\n",
       "      <td>509.190348</td>\n",
       "      <td>0.327969</td>\n",
       "      <td>2021-05-20 01:00:00</td>\n",
       "      <td>369.945626</td>\n",
       "      <td>0.238282</td>\n",
       "      <td>-112.675505</td>\n",
       "      <td>-0.274844</td>\n",
       "      <td>Long</td>\n",
       "      <td>Closed</td>\n",
       "      <td>23</td>\n",
       "    </tr>\n",
       "    <tr>\n",
       "      <th>22</th>\n",
       "      <td>22</td>\n",
       "      <td>AAVE-USDT</td>\n",
       "      <td>0.766514</td>\n",
       "      <td>2021-05-19 05:00:00</td>\n",
       "      <td>562.480784</td>\n",
       "      <td>0.344919</td>\n",
       "      <td>2021-05-19 14:00:00</td>\n",
       "      <td>472.027170</td>\n",
       "      <td>0.289452</td>\n",
       "      <td>68.699558</td>\n",
       "      <td>0.159341</td>\n",
       "      <td>Short</td>\n",
       "      <td>Closed</td>\n",
       "      <td>22</td>\n",
       "    </tr>\n",
       "    <tr>\n",
       "      <th>25</th>\n",
       "      <td>25</td>\n",
       "      <td>AAVE-USDT</td>\n",
       "      <td>1.176378</td>\n",
       "      <td>2021-05-21 19:00:00</td>\n",
       "      <td>374.301108</td>\n",
       "      <td>0.352256</td>\n",
       "      <td>2021-05-21 21:00:00</td>\n",
       "      <td>335.636382</td>\n",
       "      <td>0.315868</td>\n",
       "      <td>-46.152443</td>\n",
       "      <td>-0.104816</td>\n",
       "      <td>Long</td>\n",
       "      <td>Closed</td>\n",
       "      <td>25</td>\n",
       "    </tr>\n",
       "    <tr>\n",
       "      <th>...</th>\n",
       "      <td>...</td>\n",
       "      <td>...</td>\n",
       "      <td>...</td>\n",
       "      <td>...</td>\n",
       "      <td>...</td>\n",
       "      <td>...</td>\n",
       "      <td>...</td>\n",
       "      <td>...</td>\n",
       "      <td>...</td>\n",
       "      <td>...</td>\n",
       "      <td>...</td>\n",
       "      <td>...</td>\n",
       "      <td>...</td>\n",
       "      <td>...</td>\n",
       "    </tr>\n",
       "    <tr>\n",
       "      <th>67</th>\n",
       "      <td>67</td>\n",
       "      <td>CAKE-USDT</td>\n",
       "      <td>279.850742</td>\n",
       "      <td>2021-04-28 11:00:00</td>\n",
       "      <td>35.578014</td>\n",
       "      <td>7.965227</td>\n",
       "      <td>2021-04-30 13:00:00</td>\n",
       "      <td>41.271292</td>\n",
       "      <td>9.239841</td>\n",
       "      <td>1576.063004</td>\n",
       "      <td>0.158294</td>\n",
       "      <td>Long</td>\n",
       "      <td>Closed</td>\n",
       "      <td>67</td>\n",
       "    </tr>\n",
       "    <tr>\n",
       "      <th>109</th>\n",
       "      <td>109</td>\n",
       "      <td>CAKE-USDT</td>\n",
       "      <td>864.699232</td>\n",
       "      <td>2021-06-23 07:00:00</td>\n",
       "      <td>13.259466</td>\n",
       "      <td>9.172360</td>\n",
       "      <td>2021-06-23 08:00:00</td>\n",
       "      <td>13.357232</td>\n",
       "      <td>9.239991</td>\n",
       "      <td>66.125834</td>\n",
       "      <td>0.005767</td>\n",
       "      <td>Long</td>\n",
       "      <td>Closed</td>\n",
       "      <td>109</td>\n",
       "    </tr>\n",
       "    <tr>\n",
       "      <th>106</th>\n",
       "      <td>106</td>\n",
       "      <td>CAKE-USDT</td>\n",
       "      <td>919.049418</td>\n",
       "      <td>2021-06-22 00:00:00</td>\n",
       "      <td>12.133218</td>\n",
       "      <td>8.920822</td>\n",
       "      <td>2021-06-22 03:00:00</td>\n",
       "      <td>12.882184</td>\n",
       "      <td>9.471491</td>\n",
       "      <td>669.944454</td>\n",
       "      <td>0.060079</td>\n",
       "      <td>Long</td>\n",
       "      <td>Closed</td>\n",
       "      <td>106</td>\n",
       "    </tr>\n",
       "    <tr>\n",
       "      <th>108</th>\n",
       "      <td>108</td>\n",
       "      <td>CAKE-USDT</td>\n",
       "      <td>915.958556</td>\n",
       "      <td>2021-06-22 19:00:00</td>\n",
       "      <td>12.439830</td>\n",
       "      <td>9.115495</td>\n",
       "      <td>2021-06-23 02:00:00</td>\n",
       "      <td>13.074798</td>\n",
       "      <td>9.580778</td>\n",
       "      <td>562.908099</td>\n",
       "      <td>0.049402</td>\n",
       "      <td>Long</td>\n",
       "      <td>Closed</td>\n",
       "      <td>108</td>\n",
       "    </tr>\n",
       "    <tr>\n",
       "      <th>107</th>\n",
       "      <td>107</td>\n",
       "      <td>CAKE-USDT</td>\n",
       "      <td>1105.965779</td>\n",
       "      <td>2021-06-22 14:00:00</td>\n",
       "      <td>10.092144</td>\n",
       "      <td>8.929253</td>\n",
       "      <td>2021-06-22 16:00:00</td>\n",
       "      <td>11.750452</td>\n",
       "      <td>10.396478</td>\n",
       "      <td>1814.706168</td>\n",
       "      <td>0.162585</td>\n",
       "      <td>Long</td>\n",
       "      <td>Closed</td>\n",
       "      <td>107</td>\n",
       "    </tr>\n",
       "  </tbody>\n",
       "</table>\n",
       "<p>114 rows × 14 columns</p>\n",
       "</div>"
      ],
      "text/plain": [
       "     Exit Trade Id     Column         Size     Entry Timestamp  \\\n",
       "56              56  AAVE-USDT     2.605176 2021-07-03 08:00:00   \n",
       "113            113  CAKE-USDT   872.468676 2021-07-03 08:00:00   \n",
       "23              23  AAVE-USDT     0.805124 2021-05-19 17:00:00   \n",
       "22              22  AAVE-USDT     0.766514 2021-05-19 05:00:00   \n",
       "25              25  AAVE-USDT     1.176378 2021-05-21 19:00:00   \n",
       "..             ...        ...          ...                 ...   \n",
       "67              67  CAKE-USDT   279.850742 2021-04-28 11:00:00   \n",
       "109            109  CAKE-USDT   864.699232 2021-06-23 07:00:00   \n",
       "106            106  CAKE-USDT   919.049418 2021-06-22 00:00:00   \n",
       "108            108  CAKE-USDT   915.958556 2021-06-22 19:00:00   \n",
       "107            107  CAKE-USDT  1105.965779 2021-06-22 14:00:00   \n",
       "\n",
       "     Avg Entry Price  Entry Fees      Exit Timestamp  Avg Exit Price  \\\n",
       "56        246.853304    0.514477 2021-07-04 05:00:00      263.566000   \n",
       "113        13.197342    9.211414 2021-07-04 05:00:00       13.839000   \n",
       "23        509.190348    0.327969 2021-05-20 01:00:00      369.945626   \n",
       "22        562.480784    0.344919 2021-05-19 14:00:00      472.027170   \n",
       "25        374.301108    0.352256 2021-05-21 21:00:00      335.636382   \n",
       "..               ...         ...                 ...             ...   \n",
       "67         35.578014    7.965227 2021-04-30 13:00:00       41.271292   \n",
       "109        13.259466    9.172360 2021-06-23 08:00:00       13.357232   \n",
       "106        12.133218    8.920822 2021-06-22 03:00:00       12.882184   \n",
       "108        12.439830    9.115495 2021-06-23 02:00:00       13.074798   \n",
       "107        10.092144    8.929253 2021-06-22 16:00:00       11.750452   \n",
       "\n",
       "     Exit Fees          PnL    Return Direction  Status  Position Id  \n",
       "56    0.000000   -44.053987 -0.068503     Short    Open           56  \n",
       "113   0.000000   550.615092  0.047820      Long    Open          113  \n",
       "23    0.238282  -112.675505 -0.274844      Long  Closed           23  \n",
       "22    0.289452    68.699558  0.159341     Short  Closed           22  \n",
       "25    0.315868   -46.152443 -0.104816      Long  Closed           25  \n",
       "..         ...          ...       ...       ...     ...          ...  \n",
       "67    9.239841  1576.063004  0.158294      Long  Closed           67  \n",
       "109   9.239991    66.125834  0.005767      Long  Closed          109  \n",
       "106   9.471491   669.944454  0.060079      Long  Closed          106  \n",
       "108   9.580778   562.908099  0.049402      Long  Closed          108  \n",
       "107  10.396478  1814.706168  0.162585      Long  Closed          107  \n",
       "\n",
       "[114 rows x 14 columns]"
      ]
     },
     "execution_count": 225,
     "metadata": {},
     "output_type": "execute_result"
    }
   ],
   "source": [
    "pf.trades.records_readable.sort_values('Exit Fees')"
   ]
  },
  {
   "cell_type": "code",
   "execution_count": null,
   "metadata": {},
   "outputs": [],
   "source": []
  }
 ],
 "metadata": {
  "kernelspec": {
   "display_name": "Python 3.9.12 ('vbt')",
   "language": "python",
   "name": "python3"
  },
  "language_info": {
   "codemirror_mode": {
    "name": "ipython",
    "version": 3
   },
   "file_extension": ".py",
   "mimetype": "text/x-python",
   "name": "python",
   "nbconvert_exporter": "python",
   "pygments_lexer": "ipython3",
   "version": "3.9.12"
  },
  "orig_nbformat": 4,
  "vscode": {
   "interpreter": {
    "hash": "ffc2b3bfe40849b12e845a5f11a530c2842d3662fbaa33921a273fe678d4fb66"
   }
  }
 },
 "nbformat": 4,
 "nbformat_minor": 2
}
