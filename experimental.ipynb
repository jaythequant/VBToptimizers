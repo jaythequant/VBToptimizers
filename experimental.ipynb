{
 "cells": [
  {
   "cell_type": "code",
   "execution_count": 2,
   "metadata": {},
   "outputs": [],
   "source": [
    "import os\n",
    "import pandas as pd\n",
    "import numpy as np\n",
    "import matplotlib.pyplot as plt\n",
    "import statsmodels.api as sm\n",
    "from numba import njit\n",
    "from dotenv import load_dotenv\n",
    "from scipy.stats import skew, kurtosis\n",
    "from sklearn.model_selection import train_test_split\n",
    "from optimizers.simulations.order import simulate_lqe_model\n",
    "from optimizers.cross_validators import vbt_cv_sliding_constructor\n",
    "from research.pipes.sql import SQLPipe\n",
    "\n",
    "load_dotenv()\n",
    "\n",
    "USER = os.getenv('psql_username')\n",
    "PASS = os.getenv('psql_password')\n",
    "DATABASE = 'crypto'\n",
    "SCHEMA = 'kucoin'\n",
    "\n",
    "pipe = SQLPipe(SCHEMA, DATABASE, USER, PASS)"
   ]
  },
  {
   "cell_type": "code",
   "execution_count": 3,
   "metadata": {},
   "outputs": [
    {
     "name": "stdout",
     "output_type": "stream",
     "text": [
      "Full data length: 13766\n",
      "Test data length: 4130\n",
      "Train fold length 1927\n"
     ]
    }
   ],
   "source": [
    "assets = ['AAVE-USDT', 'CAKE-USDT']\n",
    "slicer = 0 # Slice off first few months of trading to reduce early volatility\n",
    "\n",
    "df = pipe.query_pairs_trading_backtest(assets)\n",
    "closes = df.xs('close', level=1, axis=1)[slicer:]\n",
    "opens = df.xs('open', level=1, axis=1)[slicer:]\n",
    "assert closes.shape[0] > 8640, 'Less than 1 year of backtesting data present'\n",
    "assert closes.shape == opens.shape, 'Open and close shape does not match'\n",
    "\n",
    "print(f\"Full data length: {closes.shape[0]}\")\n",
    "\n",
    "train_opens, opens = train_test_split(opens, test_size=0.30, train_size=0.70, shuffle=False)\n",
    "train_closes, closes = train_test_split(closes, test_size=0.30, train_size=0.70, shuffle=False)\n",
    "close_folds = vbt_cv_sliding_constructor(train_closes, n_splits=5)\n",
    "open_folds = vbt_cv_sliding_constructor(train_opens, n_splits=5)\n",
    "\n",
    "print(f\"Test data length: {opens.shape[0]}\")\n",
    "print(f\"Train fold length {close_folds[0].shape[0]}\")"
   ]
  },
  {
   "cell_type": "code",
   "execution_count": 4,
   "metadata": {},
   "outputs": [],
   "source": [
    "from optimizers.simulations.strategies.components.models import OLS\n",
    "\n",
    "def discretized_OU(residuals:np.array, alternative_calc:bool=False) -> float:\n",
    "    \"\"\"Estimate Ornstein-Uhlenbeck process from OLS residuals; return s-score\"\"\"\n",
    "\n",
    "    Xk = residuals.cumsum()\n",
    "    params = OLS(Xk[:-1], Xk[1:]) # Returns [beta, alpha]\n",
    "    resids = Xk[1:] - (Xk[:-1] * params[0] + params[1])\n",
    "\n",
    "    # kappa = -np.log(b) * (365*24) <- Kappa is unused for our purposes\n",
    "    m = params[1] / (1-params[0])\n",
    "    sigma_eq = np.sqrt(np.var(resids)/(1-params[0]**2))\n",
    "    if alternative_calc:\n",
    "        # This is purely experimental, may not be statistically valid\n",
    "        s = (residuals[-1] - m) / sigma_eq\n",
    "    else:\n",
    "        s = -m / sigma_eq\n",
    "\n",
    "    return s"
   ]
  },
  {
   "cell_type": "code",
   "execution_count": 5,
   "metadata": {},
   "outputs": [
    {
     "name": "stdout",
     "output_type": "stream",
     "text": [
      "Running 756 simulations\n"
     ]
    }
   ],
   "source": [
    "from optimizers.simulations.order import simulate_rolling_ols_model\n",
    "from optimizers.simulations.order import simulate_mult_rolling_ols_model\n",
    "\n",
    "params = {\n",
    "    \"period\": np.arange(1620, 1621, 10, dtype=int),\n",
    "    \"upper_entry\": np.arange(1.00, 1.41, 0.05, dtype=float),\n",
    "    \"upper_exit\": np.arange(0.75, 0.76, 0.05, dtype=float),\n",
    "    \"lower_entry\": np.arange(1.00, 1.41, 0.05, dtype=float) * -1.0,\n",
    "    \"lower_exit\": np.arange(0.50, 0.51, 0.05, dtype=float) * -1.0,\n",
    "}\n",
    "\n",
    "params = {\n",
    "    \"period\": np.arange(100, 1000, 100, dtype=int),\n",
    "    \"upper\": np.arange(2.0, 2.1, 0.10, dtype=float),\n",
    "    \"lower\": np.arange(2.0, 2.1, 0.10, dtype=float) * -1.0,\n",
    "    \"exit\": np.arange(0.5, 1.10, 0.10, dtype=float),\n",
    "    \"delta\": np.array([1e-3, 1e-4, 1e-6]), \n",
    "    \"vt\": np.array([0.1]),\n",
    "}\n",
    "\n",
    "n = 1\n",
    "for val in params.values():\n",
    "    n *= len(val)\n",
    "print(f'Running {n} simulations')"
   ]
  },
  {
   "cell_type": "code",
   "execution_count": 6,
   "metadata": {},
   "outputs": [],
   "source": [
    "# pf = simulate_lqe_model(\n",
    "#     closes, opens,\n",
    "#     transformation='log',\n",
    "#     standard_score='zscore',\n",
    "#     period=100,\n",
    "#     upper=20.00,\n",
    "#     lower=-20.00,\n",
    "#     exit=0.50,\n",
    "#     delta=1e-8,\n",
    "#     vt=0.1,\n",
    "# )"
   ]
  },
  {
   "cell_type": "code",
   "execution_count": 7,
   "metadata": {},
   "outputs": [],
   "source": [
    "import numba as nb\n",
    "from optimizers.simulations.strategies.components.models import OLS\n",
    "\n",
    "@njit(parallel=True, cache=True)\n",
    "def rollingOLS_nb(XX, yy, window):\n",
    "    \"\"\"Parallelized Numba-optimized rolling linear regression\"\"\"\n",
    "    assert XX.shape == yy.shape\n",
    "\n",
    "    params = np.full((XX.shape[0],2), np.nan, dtype=np.float_)\n",
    "\n",
    "    for i in nb.prange(0, XX.shape[0]):\n",
    "        if i > window - 2:\n",
    "            window_slice = slice(max(0, i + 1 - window), i + 1)\n",
    "            xvec = XX[window_slice]\n",
    "            yvec = yy[window_slice]\n",
    "            results = OLS(xvec, yvec)\n",
    "            params[i,0:2] = results # Beta, alpha\n",
    "\n",
    "    return params"
   ]
  },
  {
   "cell_type": "code",
   "execution_count": 8,
   "metadata": {},
   "outputs": [],
   "source": [
    "@njit\n",
    "def rolling_zscore_nb(XX, yy, params, window):\n",
    "    assert XX.shape[0] == yy.shape[0]\n",
    "\n",
    "    zscore = np.full(XX.shape[0], np.nan, dtype=np.float_)\n",
    "\n",
    "    for i in nb.prange(0, XX.shape[0]):\n",
    "        if i > window - 2:\n",
    "            window_slice = slice(max(0, i + 1 - window), i + 1)\n",
    "            xvec = XX[window_slice]\n",
    "            yvec = yy[window_slice]\n",
    "            beta, alpha = params[i]\n",
    "            resids = yvec - (beta * xvec + alpha)\n",
    "            zscore[i] = (resids[-1] - np.mean(resids)) / np.std(resids)\n",
    "\n",
    "    return zscore"
   ]
  },
  {
   "cell_type": "code",
   "execution_count": 9,
   "metadata": {},
   "outputs": [],
   "source": [
    "window = 1000\n",
    "data = closes.values\n",
    "XX = data[:,0]\n",
    "yy = data[:,1]\n",
    "\n",
    "params = rollingOLS_nb(XX, yy, window)\n",
    "zscores = rolling_zscore_nb(XX, yy, params, window)"
   ]
  },
  {
   "cell_type": "code",
   "execution_count": 10,
   "metadata": {},
   "outputs": [
    {
     "data": {
      "text/plain": [
       "[<matplotlib.lines.Line2D at 0x7faa91b37850>]"
      ]
     },
     "execution_count": 10,
     "metadata": {},
     "output_type": "execute_result"
    },
    {
     "data": {
      "image/png": "[encoded data removed]",
      "text/plain": [
       "<Figure size 432x288 with 1 Axes>"
      ]
     },
     "metadata": {
      "needs_background": "light"
     },
     "output_type": "display_data"
    }
   ],
   "source": [
    "plt.plot(params[:,0])"
   ]
  },
  {
   "cell_type": "code",
   "execution_count": 11,
   "metadata": {},
   "outputs": [
    {
     "data": {
      "text/plain": [
       "[<matplotlib.lines.Line2D at 0x7faa70c881c0>]"
      ]
     },
     "execution_count": 11,
     "metadata": {},
     "output_type": "execute_result"
    },
    {
     "data": {
      "image/png": "[encoded data removed]",
      "text/plain": [
       "<Figure size 432x288 with 1 Axes>"
      ]
     },
     "metadata": {
      "needs_background": "light"
     },
     "output_type": "display_data"
    }
   ],
   "source": [
    "plt.plot(zscores)"
   ]
  },
  {
   "cell_type": "code",
   "execution_count": 12,
   "metadata": {},
   "outputs": [],
   "source": [
    "zscores = np.full(XX.shape[0], np.nan, dtype=np.float_)\n",
    "\n",
    "for i in range(0, XX.shape[0]):\n",
    "    if i > window - 2:\n",
    "        window_slice = slice(max(0, i + 1 - window), i + 1)\n",
    "        xvec = XX[window_slice]\n",
    "        yvec = yy[window_slice]\n",
    "        param = params[i,:]\n",
    "        resids = yvec - (param[0] * xvec + param[1])\n",
    "        zscores[i] = (resids[-1] - np.mean(resids)) / np.std(resids)"
   ]
  },
  {
   "cell_type": "code",
   "execution_count": null,
   "metadata": {},
   "outputs": [],
   "source": []
  }
 ],
 "metadata": {
  "kernelspec": {
   "display_name": "Python 3.9.12 ('vbt')",
   "language": "python",
   "name": "python3"
  },
  "language_info": {
   "codemirror_mode": {
    "name": "ipython",
    "version": 3
   },
   "file_extension": ".py",
   "mimetype": "text/x-python",
   "name": "python",
   "nbconvert_exporter": "python",
   "pygments_lexer": "ipython3",
   "version": "3.9.12"
  },
  "orig_nbformat": 4,
  "vscode": {
   "interpreter": {
    "hash": "ffc2b3bfe40849b12e845a5f11a530c2842d3662fbaa33921a273fe678d4fb66"
   }
  }
 },
 "nbformat": 4,
 "nbformat_minor": 2
}
