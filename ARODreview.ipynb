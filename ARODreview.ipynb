{
 "cells": [
  {
   "cell_type": "code",
   "execution_count": 1,
   "metadata": {},
   "outputs": [],
   "source": [
    "import os\n",
    "import pandas as pd\n",
    "import numpy as np\n",
    "import statsmodels.api as sm\n",
    "import matplotlib.pyplot as plt\n",
    "from dotenv import load_dotenv\n",
    "from statsmodels.tsa.stattools import adfuller\n",
    "from research.pipes.sql import SQLPipe\n",
    "from research.utils import test_trading_liquidity\n",
    "\n",
    "pd.options.display.float_format = '{:,.4f}'.format\n",
    "\n",
    "load_dotenv()\n",
    "\n",
    "USER = os.getenv('PSQL_USERNAME')\n",
    "PASS = os.getenv('PSQL_PASSWORD')\n",
    "DATABASE = 'crypto'\n",
    "SCHEMA = 'bihourly'\n",
    "INTERVAL = '30T'\n",
    "\n",
    "pipe = SQLPipe(SCHEMA, DATABASE, USER, PASS, INTERVAL)"
   ]
  },
  {
   "cell_type": "code",
   "execution_count": 27,
   "metadata": {},
   "outputs": [],
   "source": [
    "# This will take a bit to run\n",
    "vol = test_trading_liquidity(interval='1hour')"
   ]
  },
  {
   "cell_type": "code",
   "execution_count": 30,
   "metadata": {},
   "outputs": [
    {
     "data": {
      "text/html": [
       "<div>\n",
       "<style scoped>\n",
       "    .dataframe tbody tr th:only-of-type {\n",
       "        vertical-align: middle;\n",
       "    }\n",
       "\n",
       "    .dataframe tbody tr th {\n",
       "        vertical-align: top;\n",
       "    }\n",
       "\n",
       "    .dataframe thead th {\n",
       "        text-align: right;\n",
       "    }\n",
       "</style>\n",
       "<table border=\"1\" class=\"dataframe\">\n",
       "  <thead>\n",
       "    <tr style=\"text-align: right;\">\n",
       "      <th></th>\n",
       "      <th>x</th>\n",
       "      <th>y</th>\n",
       "      <th>tscore</th>\n",
       "      <th>pvalue</th>\n",
       "      <th>hurst</th>\n",
       "      <th>halflife</th>\n",
       "    </tr>\n",
       "  </thead>\n",
       "  <tbody>\n",
       "    <tr>\n",
       "      <th>0</th>\n",
       "      <td>vrausdt</td>\n",
       "      <td>xprusdt</td>\n",
       "      <td>-8.0909</td>\n",
       "      <td>0.0000</td>\n",
       "      <td>0.3815</td>\n",
       "      <td>72.8196</td>\n",
       "    </tr>\n",
       "    <tr>\n",
       "      <th>1</th>\n",
       "      <td>kdausdt</td>\n",
       "      <td>waxusdt</td>\n",
       "      <td>-6.3555</td>\n",
       "      <td>0.0000</td>\n",
       "      <td>0.4758</td>\n",
       "      <td>115.2951</td>\n",
       "    </tr>\n",
       "    <tr>\n",
       "      <th>2</th>\n",
       "      <td>dotusdt</td>\n",
       "      <td>xprusdt</td>\n",
       "      <td>-6.2510</td>\n",
       "      <td>0.0000</td>\n",
       "      <td>0.4049</td>\n",
       "      <td>118.8329</td>\n",
       "    </tr>\n",
       "    <tr>\n",
       "      <th>3</th>\n",
       "      <td>vrausdt</td>\n",
       "      <td>dotusdt</td>\n",
       "      <td>-6.3287</td>\n",
       "      <td>0.0000</td>\n",
       "      <td>0.3952</td>\n",
       "      <td>126.7005</td>\n",
       "    </tr>\n",
       "    <tr>\n",
       "      <th>4</th>\n",
       "      <td>vrausdt</td>\n",
       "      <td>kdausdt</td>\n",
       "      <td>-8.0636</td>\n",
       "      <td>0.0000</td>\n",
       "      <td>0.4643</td>\n",
       "      <td>127.4905</td>\n",
       "    </tr>\n",
       "  </tbody>\n",
       "</table>\n",
       "</div>"
      ],
      "text/plain": [
       "         x        y  tscore  pvalue  hurst  halflife\n",
       "0  vrausdt  xprusdt -8.0909  0.0000 0.3815   72.8196\n",
       "1  kdausdt  waxusdt -6.3555  0.0000 0.4758  115.2951\n",
       "2  dotusdt  xprusdt -6.2510  0.0000 0.4049  118.8329\n",
       "3  vrausdt  dotusdt -6.3287  0.0000 0.3952  126.7005\n",
       "4  vrausdt  kdausdt -8.0636  0.0000 0.4643  127.4905"
      ]
     },
     "execution_count": 30,
     "metadata": {},
     "output_type": "execute_result"
    }
   ],
   "source": [
    "data = pd.read_csv(\"data/TTM30T.csv\", index_col=0)\n",
    "\n",
    "low_vol = vol[vol < 25_000].index.to_list()\n",
    "low_vol = [symbol.lower().replace(\"-\",\"\") for symbol in low_vol]\n",
    "\n",
    "data = data[data[\"pvalue\"] < 0.01]\n",
    "data = data[data[\"hurst\"] < 0.50]\n",
    "data = data[~data['x'].isin(low_vol) & ~data['y'].isin(low_vol)]\n",
    "excluded_values = []\n",
    "data = data[~data['x'].isin(excluded_values) & ~data['y'].isin(excluded_values)]\n",
    "\n",
    "data = data.sort_values('halflife').reset_index(drop=True)\n",
    "\n",
    "data.head()"
   ]
  },
  {
   "cell_type": "code",
   "execution_count": 39,
   "metadata": {},
   "outputs": [
    {
     "name": "stdout",
     "output_type": "stream",
     "text": [
      "vrausdt dotusdt\n"
     ]
    }
   ],
   "source": [
    "i = 3\n",
    "x = data.loc[i, \"x\"]\n",
    "y = data.loc[i, \"y\"]\n",
    "df = pipe.query_pairs_trading_backtest([x, y])\n",
    "print(x,y)"
   ]
  },
  {
   "cell_type": "code",
   "execution_count": 40,
   "metadata": {},
   "outputs": [],
   "source": [
    "closes = np.log(df.xs(\n",
    "    \"close\", level=1, axis=1\n",
    ").rename(columns={0: x, 1: y}))"
   ]
  },
  {
   "cell_type": "code",
   "execution_count": 41,
   "metadata": {},
   "outputs": [
    {
     "name": "stdout",
     "output_type": "stream",
     "text": [
      "(17520,)\n"
     ]
    },
    {
     "data": {
      "image/png": "[encoded data removed]",
      "text/plain": [
       "<Figure size 432x288 with 1 Axes>"
      ]
     },
     "metadata": {
      "needs_background": "light"
     },
     "output_type": "display_data"
    }
   ],
   "source": [
    "slicer = -17520\n",
    "\n",
    "res = sm.OLS(\n",
    "    endog=closes.iloc[slicer:, 1],\n",
    "    exog=sm.add_constant(closes.iloc[slicer:, 0]),\n",
    ").fit()\n",
    "\n",
    "res.resid.plot()\n",
    "print(res.resid.shape)"
   ]
  },
  {
   "cell_type": "code",
   "execution_count": 42,
   "metadata": {},
   "outputs": [
    {
     "name": "stdout",
     "output_type": "stream",
     "text": [
      "-------- Results ---------\n",
      "Stationary at 1% confidence? True\n",
      "Critical value: -2.5659\n",
      "t-score for test: -6.3024\n",
      "p-score for test: 0.0000\n"
     ]
    }
   ],
   "source": [
    "def engle_granger(resids, level=\"1%\", maxlag=1):\n",
    "    test_results = adfuller(resids, maxlag=maxlag, regression=\"n\")\n",
    "\n",
    "    interpretation = test_results[0] < test_results[4][level]\n",
    "\n",
    "    print(\"-------- Results ---------\")\n",
    "    print(f\"Stationary at {level} confidence? {interpretation}\")\n",
    "    print(f\"Critical value: {test_results[4][level]:.4f}\")\n",
    "    print(f\"t-score for test: {test_results[0]:.4f}\")\n",
    "    print(f\"p-score for test: {test_results[1]:.4f}\")\n",
    "\n",
    "engle_granger(res.resid)"
   ]
  },
  {
   "cell_type": "code",
   "execution_count": null,
   "metadata": {},
   "outputs": [],
   "source": []
  }
 ],
 "metadata": {
  "kernelspec": {
   "display_name": "Python 3.10.4 ('researchenv')",
   "language": "python",
   "name": "python3"
  },
  "language_info": {
   "codemirror_mode": {
    "name": "ipython",
    "version": 3
   },
   "file_extension": ".py",
   "mimetype": "text/x-python",
   "name": "python",
   "nbconvert_exporter": "python",
   "pygments_lexer": "ipython3",
   "version": "3.10.4"
  },
  "orig_nbformat": 4,
  "vscode": {
   "interpreter": {
    "hash": "06dac8332562ff3cd764e49dfad081ab9fd84af29e478ddb7ccdab5b071735f5"
   }
  }
 },
 "nbformat": 4,
 "nbformat_minor": 2
}
