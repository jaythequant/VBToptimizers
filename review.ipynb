{
 "cells": [
  {
   "cell_type": "code",
   "execution_count": 155,
   "metadata": {},
   "outputs": [],
   "source": [
    "from setup._order import simulate_from_order_func\n",
    "from sklearn.model_selection import train_test_split\n",
    "from utils._utils import get_csv_data\n",
    "import pandas as pd"
   ]
  },
  {
   "cell_type": "code",
   "execution_count": 156,
   "metadata": {},
   "outputs": [
    {
     "name": "stdout",
     "output_type": "stream",
     "text": [
      "254304\n"
     ]
    }
   ],
   "source": [
    "opens = get_csv_data(\"data/crypto_open_data.csv\")\n",
    "closes = get_csv_data(\"data/crypto_close_data.csv\")\n",
    "\n",
    "train_opens, opens = train_test_split(opens, test_size=0.20, train_size=0.80, shuffle=False)\n",
    "train_closes, closes = train_test_split(closes, test_size=0.20, train_size=0.80, shuffle=False)\n",
    "\n",
    "print(closes.shape[0])"
   ]
  },
  {
   "cell_type": "code",
   "execution_count": null,
   "metadata": {},
   "outputs": [],
   "source": [
    "# Constants\n",
    "# 120 2.4 -2.0 1.0 1.000000e-08 0.8\n",
    "\n",
    "PERIOD = 26500\n",
    "UPPER = 3.3\n",
    "LOWER = -4.0\n",
    "EXIT = 0.7\n",
    "DELTA = 1e-3\n",
    "VT = 0.8\n",
    "BURNIN = 500"
   ]
  },
  {
   "cell_type": "code",
   "execution_count": 163,
   "metadata": {},
   "outputs": [],
   "source": [
    "pf = simulate_from_order_func(\n",
    "    closes, opens, \n",
    "    period=PERIOD,\n",
    "    upper=UPPER,\n",
    "    lower=LOWER,\n",
    "    exits=EXIT,\n",
    "    delta=DELTA,\n",
    "    vt=VT,\n",
    "    burnin=BURNIN,\n",
    "    freq=\"h\",\n",
    "    hedge=\"beta\",\n",
    ")"
   ]
  },
  {
   "cell_type": "code",
   "execution_count": 164,
   "metadata": {},
   "outputs": [
    {
     "data": {
      "text/plain": [
       "-0.009836671971281522"
      ]
     },
     "execution_count": 164,
     "metadata": {},
     "output_type": "execute_result"
    }
   ],
   "source": [
    "pf.total_return()"
   ]
  },
  {
   "cell_type": "code",
   "execution_count": 165,
   "metadata": {},
   "outputs": [
    {
     "data": {
      "text/plain": [
       "0.3333333333333333"
      ]
     },
     "execution_count": 165,
     "metadata": {},
     "output_type": "execute_result"
    }
   ],
   "source": [
    "res = pf.trades.records_readable.groupby(\"Entry Timestamp\").sum()\n",
    "res.PnL[res.PnL > 0].shape[0] / res.shape[0]"
   ]
  },
  {
   "cell_type": "code",
   "execution_count": null,
   "metadata": {},
   "outputs": [],
   "source": []
  }
 ],
 "metadata": {
  "kernelspec": {
   "display_name": "Python 3.9.12 ('vbt')",
   "language": "python",
   "name": "python3"
  },
  "language_info": {
   "codemirror_mode": {
    "name": "ipython",
    "version": 3
   },
   "file_extension": ".py",
   "mimetype": "text/x-python",
   "name": "python",
   "nbconvert_exporter": "python",
   "pygments_lexer": "ipython3",
   "version": "3.9.12"
  },
  "orig_nbformat": 4,
  "vscode": {
   "interpreter": {
    "hash": "66111748f98962b608697c90d567201483b615a34a865cb35fd937f66d40d6f9"
   }
  }
 },
 "nbformat": 4,
 "nbformat_minor": 2
}
