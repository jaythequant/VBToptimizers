{
 "cells": [
  {
   "cell_type": "code",
   "execution_count": 38,
   "metadata": {},
   "outputs": [],
   "source": [
    "import pandas as pd\n",
    "import os\n",
    "from scipy.stats import skew, kurtosis\n",
    "import numpy as np\n",
    "import matplotlib.pyplot as plt\n",
    "from dotenv import load_dotenv\n",
    "from sklearn.model_selection import train_test_split\n",
    "from optimizers.simulations.order import simulate_lqe_model\n",
    "from optimizers.utils._utils import get_csv_data\n",
    "from optimizers.cross_validators import vbt_cv_sliding_constructor\n",
    "from research.pipes.sql import SQLPipe\n",
    "from research.utils import kalmanfilter\n",
    "\n",
    "load_dotenv()\n",
    "\n",
    "USER = os.getenv('psql_username')\n",
    "PASS = os.getenv('psql_password')\n",
    "DATABASE = 'crypto'\n",
    "SCHEMA = 'bihourly'\n",
    "\n",
    "pipe = SQLPipe(SCHEMA, DATABASE, USER, PASS, interval='30T')"
   ]
  },
  {
   "cell_type": "code",
   "execution_count": 39,
   "metadata": {},
   "outputs": [
    {
     "name": "stdout",
     "output_type": "stream",
     "text": [
      "Full data length: 21196\n",
      "Test data length: 6359\n",
      "Train fold length 4945\n"
     ]
    }
   ],
   "source": [
    "assets = ['AXS-USDT', 'VRA-USDT']\n",
    "slicer = -25000 # Slice off first few months of trading to reduce early volatility\n",
    "\n",
    "df = pipe.query_pairs_trading_backtest(assets)\n",
    "closes = df.xs('close', level=1, axis=1)[slicer:]\n",
    "opens = df.xs('open', level=1, axis=1)[slicer:]\n",
    "assert closes.shape[0] > 8640, 'Less than 1 year of backtesting data present'\n",
    "assert closes.shape == opens.shape, 'Open and close shape does not match'\n",
    "\n",
    "print(f\"Full data length: {closes.shape[0]}\")\n",
    "\n",
    "n = 3\n",
    "train_opens, opens = train_test_split(opens, test_size=0.30, train_size=0.70, shuffle=False)\n",
    "train_closes, closes = train_test_split(closes, test_size=0.30, train_size=0.70, shuffle=False)\n",
    "close_folds = vbt_cv_sliding_constructor(train_closes, n_splits=n)\n",
    "open_folds = vbt_cv_sliding_constructor(train_opens, n_splits=n)\n",
    "\n",
    "print(f\"Test data length: {opens.shape[0]}\")\n",
    "print(f\"Train fold length {close_folds[0].shape[0]}\")"
   ]
  },
  {
   "cell_type": "code",
   "execution_count": 40,
   "metadata": {},
   "outputs": [],
   "source": [
    "# EOS FIL works on a CUMMLOG model but has volatility in per trade returns\n",
    "# FIL THETA & LINK CHZ, BTC ZEC. BTCZEC might work, but had generalization issues\n",
    "# ADA ZEC is untestable due to massive regime shift mid test set for LOG model\n",
    "# Something is bizarre and wrong with the ADA ZEC data; needs review?\n",
    "# BSV 1INCH 70 2.1 -2.4 1.3 5.000000e-07 0.00030 CUMMLOG <- does not work past 10bps slippage\n",
    "# XLM1INCH, LTCCHZ, DGBCAKE, NEODGB, DGBDASH, GRT1INCH failed backtesting\n",
    "# THETA FIL 100 1.2 -1.2 0.3 9.e-8 4.e-5 LOG seems to work\n",
    "# BATANKR 303 0.7 -2.7 0.4 3.e-9 1.7e-5 LOG\n",
    "# LTCCHZ works, but apparently failed to hedge (same issue as with CHZWIN) <- this might be fixed now\n",
    "# BNBTRX (LOG) failed\n",
    "# BNBTRX CUMMLOG 615 1.9 -2.2 1.4 8e-6 0.3 <- low sharpe, but high WR. High duration. Deploy with minor alloc?\n",
    "# XLM SUN / SUN XLM  does not generalize well. Low trade count, high duration\n",
    "# XMR ETH failed across all models. Still need to test ETH XMR\n",
    "# ASX VRA DEFAULT 20 2.0 -1.8 0.6 8e-8 1.2 <- extremely successful 1hour\n",
    "# DOGE SUN / SUN DOGEfailed on all models\n",
    "# FIL CAKE DEFAULT 510 1.6 -1.4 0.1 6e-6 7e-1 returned low trade count, high duration, but ~2 sharpe, high wr, high pr. Bears live testing\n",
    "# THETA FIL LOG 355 1.5 -1.5 1.2 1E-9 0.15 works quite well at 20bps slippage. Fat tail risk in trades leads to low sharpe\n",
    "# EOS CAKE does not work on any metric; XMR CAKE LOG failed\n",
    "# SHIB DOGE / DOGE SHIB 30MIN LOG RET & LOG model failed to generalize\n",
    "# THETA FIL LOG BETA 845 0.9 -1.6 0.8 8e-9 1.6 30MIN <- high sharpe / 410 0.6 -2.7 0.2 6e-9 1.8 30MIN <- lower sharpe\n",
    "# AXS VRA 920 2.7 -2.4 0.8 1e-9 1.3-8 LOG 30M BETA <- high freq ~2x sharpe DEPLOY TO LIVE TEST // Results in NEGATIVE beta...\n",
    "\n",
    "PERIOD = 920\n",
    "UPPER = 2.7\n",
    "LOWER = -2.4\n",
    "EXIT = 0.8\n",
    "DELTA = 1e-9\n",
    "VT = 1.3e-8\n",
    "BURNIN = 600\n",
    "MODEL = 'log'\n",
    "HEDGE = 'beta'\n",
    "SLIPPAGE = 0.0010\n",
    "FREQ = '30T'"
   ]
  },
  {
   "cell_type": "code",
   "execution_count": 41,
   "metadata": {},
   "outputs": [
    {
     "name": "stdout",
     "output_type": "stream",
     "text": [
      "-1.0333488180522516\n",
      "-1.037938143064035\n",
      "-1.0664723633710467\n",
      "-1.0489133190996582\n",
      "-1.013911362240788\n",
      "-1.0326376498310215\n",
      "-1.0236744774872286\n",
      "-0.9954747966393347\n",
      "-0.9064750381111361\n",
      "-0.899001095790666\n",
      "-0.7675315028824323\n",
      "-0.7024038620728269\n",
      "-0.7077506032157642\n",
      "-0.6514747701856504\n",
      "-0.5923475365524944\n",
      "-0.5090133603546192\n",
      "-0.14378711956918996\n",
      "-0.14274397912179643\n",
      "-0.15698838625763412\n",
      "-0.14674131177435204\n",
      "-0.12590630949857115\n",
      "-0.0999525692659324\n",
      "-0.060080691089407605\n",
      "-0.003681257191771911\n",
      "0.03730558062042992\n",
      "0.047316268314452875\n",
      "0.0774013238984429\n",
      "0.1079875004260714\n",
      "0.0929674650857192\n",
      "0.10624421677700559\n",
      "0.10149294104973514\n",
      "0.10205143099172942\n",
      "0.1467750409765169\n",
      "0.19343128349534677\n",
      "0.1704268351754647\n",
      "0.17449253435230305\n",
      "0.18967986619882687\n",
      "0.23311861738989517\n",
      "0.24953896849192803\n",
      "0.30574133951380034\n",
      "0.3471235226241674\n",
      "0.35426202720260547\n",
      "0.37091390329830976\n",
      "0.3581205320732012\n",
      "0.3833838862412502\n",
      "0.3997368158641711\n",
      "0.38607350453756206\n",
      "0.3911142557773961\n",
      "0.37572040770419296\n",
      "0.38055769890459784\n",
      "0.3934089835343831\n",
      "0.4158111102394618\n",
      "0.42982399442466834\n",
      "0.4431084927653766\n",
      "0.4596208258554163\n",
      "0.4585549120538188\n",
      "0.48264603625089153\n",
      "0.4955766018541386\n",
      "0.500202764166288\n",
      "0.4865882817521665\n",
      "0.4883384828858719\n",
      "0.532307268451642\n",
      "0.529587627194751\n",
      "0.5338539622210933\n",
      "0.5402996512257093\n",
      "0.5497638692330624\n",
      "0.5599433733733374\n",
      "0.5433424074581374\n",
      "0.5367395727366031\n",
      "0.5094484433407055\n",
      "0.5103482556414763\n",
      "0.5153336109291676\n",
      "0.5347766521022526\n",
      "0.5313013225786802\n"
     ]
    }
   ],
   "source": [
    "pf = simulate_lqe_model(\n",
    "    closes, opens,\n",
    "    period=PERIOD,\n",
    "    upper=UPPER,\n",
    "    lower=LOWER,\n",
    "    exit=EXIT,\n",
    "    delta=DELTA,\n",
    "    vt=VT,\n",
    "    burnin=BURNIN,\n",
    "    freq=FREQ,\n",
    "    hedge=HEDGE,\n",
    "    transformation=MODEL,\n",
    "    slippage=SLIPPAGE,\n",
    "    order_size=0.10,\n",
    ")"
   ]
  },
  {
   "cell_type": "code",
   "execution_count": 42,
   "metadata": {},
   "outputs": [
    {
     "name": "stdout",
     "output_type": "stream",
     "text": [
      "0.03298703687008714\n"
     ]
    },
    {
     "data": {
      "text/plain": [
       "<AxesSubplot:>"
      ]
     },
     "execution_count": 42,
     "metadata": {},
     "output_type": "execute_result"
    },
    {
     "data": {
      "image/png": "[encoded data removed]",
      "text/plain": [
       "<Figure size 1368x288 with 1 Axes>"
      ]
     },
     "metadata": {
      "needs_background": "light"
     },
     "output_type": "display_data"
    }
   ],
   "source": [
    "print(pf.total_return())\n",
    "pf.value().plot(figsize=(19,4))"
   ]
  },
  {
   "cell_type": "code",
   "execution_count": 43,
   "metadata": {},
   "outputs": [],
   "source": [
    "pnl = (pf.trades.records_readable.groupby('Entry Timestamp').sum().PnL.resample('D').sum())\n",
    "val = pf.value().resample('D').asfreq().fillna(pf.value())\n",
    "res = pd.concat([pnl, val], axis=1, keys=['pnl', 'val'])\n",
    "res = res.fillna(0)\n",
    "res['ret'] = res.pnl / res.val\n",
    "Rf = (1 + 0) ** (1/365) - 1 # Daily risk free rate\n",
    "Rp = res.ret.mean() # Daily portfolio return\n",
    "STDp = res.ret.std() # Daily standard deviation of return\n",
    "sharpe = ((Rp - 0) / STDp) * np.sqrt(365) # Annualized sharpe"
   ]
  },
  {
   "cell_type": "code",
   "execution_count": 44,
   "metadata": {},
   "outputs": [
    {
     "name": "stdout",
     "output_type": "stream",
     "text": [
      "Total trades: 74\n",
      "Executed trades: 148\n",
      "Profit Ratio: 0.810\n",
      "Net long-short win rate: 66.22%\n",
      "Median trade profit: 90.98\n",
      "Mean trade profit: 44.58\n",
      "STD of trade profit: 304.70\n",
      "Sharpe ratio: 2.1586\n"
     ]
    }
   ],
   "source": [
    "res = pf.trades.records_readable.groupby(\"Entry Timestamp\").sum()\n",
    "\n",
    "print(f\"Total trades: {res.shape[0]}\")\n",
    "print(f\"Executed trades: {pf.trades.records_readable.shape[0]}\")\n",
    "print(f\"Profit Ratio: {res.PnL[res.PnL > 0].mean() / np.abs(res.PnL[res.PnL < 0].mean()):.3f}\")\n",
    "print(f\"Net long-short win rate: {res.PnL[res.PnL > 0].shape[0] / res.shape[0] * 100:.2f}%\")\n",
    "print(f\"Median trade profit: {res.PnL.median():.2f}\")\n",
    "print(f\"Mean trade profit: {res.PnL.mean():.2f}\")\n",
    "print(f\"STD of trade profit: {res.PnL.std():.2f}\")\n",
    "print(f\"Sharpe ratio: {sharpe:.4f}\")"
   ]
  },
  {
   "cell_type": "code",
   "execution_count": 45,
   "metadata": {},
   "outputs": [
    {
     "data": {
      "text/plain": [
       "<AxesSubplot:xlabel='Entry Timestamp'>"
      ]
     },
     "execution_count": 45,
     "metadata": {},
     "output_type": "execute_result"
    },
    {
     "data": {
      "image/png": "[encoded data removed]",
      "text/plain": [
       "<Figure size 1152x432 with 1 Axes>"
      ]
     },
     "metadata": {
      "needs_background": "light"
     },
     "output_type": "display_data"
    }
   ],
   "source": [
    "res.PnL.plot(kind=\"bar\", figsize=(16,6))"
   ]
  },
  {
   "cell_type": "code",
   "execution_count": 46,
   "metadata": {},
   "outputs": [
    {
     "name": "stdout",
     "output_type": "stream",
     "text": [
      "Kurtosis: 14.801613197855298\n",
      "Skew: -2.6490079174650063\n"
     ]
    },
    {
     "data": {
      "text/plain": [
       "<AxesSubplot:ylabel='Frequency'>"
      ]
     },
     "execution_count": 46,
     "metadata": {},
     "output_type": "execute_result"
    },
    {
     "data": {
      "image/png": "[encoded data removed]",
      "text/plain": [
       "<Figure size 1152x432 with 1 Axes>"
      ]
     },
     "metadata": {
      "needs_background": "light"
     },
     "output_type": "display_data"
    }
   ],
   "source": [
    "print(f'Kurtosis: {kurtosis(res.PnL, fisher=False)}')\n",
    "print(f'Skew: {skew(res.PnL)}')\n",
    "\n",
    "bins = np.arange(res.PnL.min(), res.PnL.max(), 25)\n",
    "res.PnL.plot(kind=\"hist\", figsize=(16,6), bins=bins)"
   ]
  },
  {
   "cell_type": "code",
   "execution_count": 47,
   "metadata": {},
   "outputs": [
    {
     "name": "stdout",
     "output_type": "stream",
     "text": [
      " 1.0    50\n",
      "-1.0    24\n",
      "Name: beta, dtype: int64\n"
     ]
    }
   ],
   "source": [
    "if MODEL == 'log':\n",
    "    data = np.log(closes)\n",
    "elif MODEL == 'logret':\n",
    "    data = np.log1p(closes.pct_change()).dropna()\n",
    "res = kalmanfilter(data, DELTA, VT, export_df=True)\n",
    "\n",
    "trade_df = pf.trades.records_readable.sort_values('Entry Timestamp')\n",
    "g = trade_df.groupby('Entry Timestamp')\n",
    "x, y = assets\n",
    "betas = []\n",
    "\n",
    "for idx, gr in g:\n",
    "    if gr.Direction.nunique() == 1:\n",
    "        sign = -1\n",
    "    else:\n",
    "        sign = 1\n",
    "    xv = gr[gr['Column'] == x]\n",
    "    yv = gr[gr['Column'] == y]\n",
    "    xval = xv['Size'] * xv['Avg Entry Price']\n",
    "    yval = yv['Size'] * yv['Avg Entry Price']\n",
    "    beta = (xval.values / yval.values) * sign\n",
    "    betas.append(beta)\n",
    "\n",
    "betas = np.vstack(betas).flatten()\n",
    "ser = pd.Series(betas, index=trade_df['Entry Timestamp'].unique(), name='beta')\n",
    "\n",
    "print(np.sign(ser).value_counts())"
   ]
  },
  {
   "cell_type": "code",
   "execution_count": 48,
   "metadata": {},
   "outputs": [],
   "source": [
    "# from kucoincli.client import Client\n",
    "\n",
    "# client = Client()\n",
    "\n",
    "# df = client.ohlcv(['AXS-USDT', 'VRA-USDT'], start='2017-07-01', interval='30min', warning=False)\n",
    "# data = df.xs('close', level=1, axis=1).dropna()"
   ]
  },
  {
   "cell_type": "code",
   "execution_count": 49,
   "metadata": {},
   "outputs": [],
   "source": [
    "d = pd.read_csv('test.csv', index_col=0)\n",
    "\n",
    "res = kalmanfilter(d, DELTA, VT, export_df=True)"
   ]
  },
  {
   "cell_type": "code",
   "execution_count": 50,
   "metadata": {},
   "outputs": [
    {
     "data": {
      "text/plain": [
       "<AxesSubplot:xlabel='time'>"
      ]
     },
     "execution_count": 50,
     "metadata": {},
     "output_type": "execute_result"
    },
    {
     "data": {
      "image/png": "[encoded data removed]",
      "text/plain": [
       "<Figure size 432x288 with 1 Axes>"
      ]
     },
     "metadata": {
      "needs_background": "light"
     },
     "output_type": "display_data"
    }
   ],
   "source": [
    "res.slope[-1800:].plot()"
   ]
  },
  {
   "cell_type": "code",
   "execution_count": null,
   "metadata": {},
   "outputs": [],
   "source": []
  }
 ],
 "metadata": {
  "kernelspec": {
   "display_name": "Python 3.9.12 ('vbt')",
   "language": "python",
   "name": "python3"
  },
  "language_info": {
   "codemirror_mode": {
    "name": "ipython",
    "version": 3
   },
   "file_extension": ".py",
   "mimetype": "text/x-python",
   "name": "python",
   "nbconvert_exporter": "python",
   "pygments_lexer": "ipython3",
   "version": "3.9.12"
  },
  "orig_nbformat": 4,
  "vscode": {
   "interpreter": {
    "hash": "ffc2b3bfe40849b12e845a5f11a530c2842d3662fbaa33921a273fe678d4fb66"
   }
  }
 },
 "nbformat": 4,
 "nbformat_minor": 2
}
