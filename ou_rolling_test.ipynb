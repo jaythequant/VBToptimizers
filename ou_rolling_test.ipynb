{
 "cells": [
  {
   "cell_type": "code",
   "execution_count": null,
   "metadata": {},
   "outputs": [],
   "source": [
    "import os\n",
    "import pandas as pd\n",
    "import numpy as np\n",
    "import matplotlib.pyplot as plt\n",
    "import statsmodels.api as sm\n",
    "from dotenv import load_dotenv\n",
    "from scipy.stats import skew, kurtosis\n",
    "from sklearn.model_selection import train_test_split\n",
    "from optimizers.simulations.order import simulate_from_order_func\n",
    "from optimizers.utils.cross_validators import vbt_cv_sliding_constructor\n",
    "from optimizers.pipes.pipe import SQLPipe\n",
    "\n",
    "load_dotenv()\n",
    "\n",
    "USER = os.getenv('psql_username')\n",
    "PASS = os.getenv('psql_password')\n",
    "DATABASE = 'crypto'\n",
    "SCHEMA = 'kucoin'\n",
    "\n",
    "pipe = SQLPipe(SCHEMA, DATABASE, USER, PASS)"
   ]
  },
  {
   "cell_type": "code",
   "execution_count": 57,
   "metadata": {},
   "outputs": [
    {
     "name": "stdout",
     "output_type": "stream",
     "text": [
      "Full data length: 41672\n",
      "Test data length: 12502\n",
      "Train fold length 5834\n"
     ]
    }
   ],
   "source": [
    "assets = ['BTC-USDT', 'ETH-USDT']\n",
    "slicer = 0 # Slice off first few months of trading to reduce early volatility\n",
    "\n",
    "df = pipe.query_pairs_trading_backtest(assets)\n",
    "closes = df.xs('close', level=1, axis=1)[slicer:]\n",
    "opens = df.xs('open', level=1, axis=1)[slicer:]\n",
    "assert closes.shape[0] > 8640, 'Less than 1 year of backtesting data present'\n",
    "assert closes.shape == opens.shape, 'Open and close shape does not match'\n",
    "\n",
    "print(f\"Full data length: {closes.shape[0]}\")\n",
    "\n",
    "train_opens, opens = train_test_split(opens, test_size=0.30, train_size=0.70, shuffle=False)\n",
    "train_closes, closes = train_test_split(closes, test_size=0.30, train_size=0.70, shuffle=False)\n",
    "close_folds = vbt_cv_sliding_constructor(train_closes, n_splits=5)\n",
    "open_folds = vbt_cv_sliding_constructor(train_opens, n_splits=5)\n",
    "\n",
    "print(f\"Test data length: {opens.shape[0]}\")\n",
    "print(f\"Train fold length {close_folds[0].shape[0]}\")"
   ]
  },
  {
   "cell_type": "code",
   "execution_count": null,
   "metadata": {},
   "outputs": [],
   "source": [
    "from optimizers.simulations.order import simulate_rolling_ou_model\n",
    "from optimizers.simulations.order import simulate_mult_rolling_ou_model\n",
    "\n",
    "params = {\n",
    "    \"period\": np.arange(1620, 1621, 10, dtype=int),\n",
    "    \"upper_entry\": np.arange(1.00, 1.41, 0.05, dtype=float),\n",
    "    \"upper_exit\": np.arange(0.75, 0.76, 0.05, dtype=float),\n",
    "    \"lower_entry\": np.arange(1.00, 1.41, 0.05, dtype=float) * -1.0,\n",
    "    \"lower_exit\": np.arange(0.50, 0.51, 0.05, dtype=float) * -1.0,\n",
    "}\n",
    "\n",
    "n = 1\n",
    "for val in params.values():\n",
    "    n *= len(val)\n",
    "print(f'Running {n} simulations')\n"
   ]
  },
  {
   "cell_type": "code",
   "execution_count": null,
   "metadata": {},
   "outputs": [],
   "source": [
    "pf = simulate_mult_rolling_ou_model(closes, opens, params, order_size=0.50)"
   ]
  },
  {
   "cell_type": "code",
   "execution_count": null,
   "metadata": {},
   "outputs": [],
   "source": [
    "pf.total_return().plot(kind='hist', bins=np.arange(pf.total_return().min(), pf.total_return().max(), 0.01))"
   ]
  },
  {
   "cell_type": "code",
   "execution_count": null,
   "metadata": {},
   "outputs": [],
   "source": []
  }
 ],
 "metadata": {
  "kernelspec": {
   "display_name": "Python 3.9.12 ('vbt')",
   "language": "python",
   "name": "python3"
  },
  "language_info": {
   "codemirror_mode": {
    "name": "ipython",
    "version": 3
   },
   "file_extension": ".py",
   "mimetype": "text/x-python",
   "name": "python",
   "nbconvert_exporter": "python",
   "pygments_lexer": "ipython3",
   "version": "3.9.12"
  },
  "orig_nbformat": 4,
  "vscode": {
   "interpreter": {
    "hash": "ffc2b3bfe40849b12e845a5f11a530c2842d3662fbaa33921a273fe678d4fb66"
   }
  }
 },
 "nbformat": 4,
 "nbformat_minor": 2
}
